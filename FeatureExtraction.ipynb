{
 "cells": [
  {
   "cell_type": "code",
   "execution_count": 41,
   "id": "5aeb9c13",
   "metadata": {},
   "outputs": [],
   "source": [
    "import sys\n",
    "import os\n",
    "import IPython as IP\n",
    "import pandas as pd\n",
    "import numpy as np\n",
    "import matplotlib.pyplot as plt\n",
    "import librosa\n",
    "import librosa.display\n",
    "import pickle\n",
    "import helpers\n",
    "import glob\n",
    "import tensorflow as tf\n",
    "from sklearn.preprocessing import LabelEncoder\n",
    "from sklearn.model_selection import train_test_split\n",
    "from IPython.display import clear_output, display\n",
    "from scipy.stats import kurtosis, skew\n",
    "from tensorflow.keras.utils import to_categorical\n",
    "import warnings\n",
    "warnings.filterwarnings('ignore')"
   ]
  },
  {
   "cell_type": "markdown",
   "id": "c7caf5a5",
   "metadata": {},
   "source": [
    "# Loading Meta data"
   ]
  },
  {
   "cell_type": "code",
   "execution_count": 10,
   "id": "7c0e3a5f",
   "metadata": {},
   "outputs": [
    {
     "name": "stdout",
     "output_type": "stream",
     "text": [
      "(8732, 8)\n"
     ]
    },
    {
     "data": {
      "text/html": [
       "<div>\n",
       "<style scoped>\n",
       "    .dataframe tbody tr th:only-of-type {\n",
       "        vertical-align: middle;\n",
       "    }\n",
       "\n",
       "    .dataframe tbody tr th {\n",
       "        vertical-align: top;\n",
       "    }\n",
       "\n",
       "    .dataframe thead th {\n",
       "        text-align: right;\n",
       "    }\n",
       "</style>\n",
       "<table border=\"1\" class=\"dataframe\">\n",
       "  <thead>\n",
       "    <tr style=\"text-align: right;\">\n",
       "      <th></th>\n",
       "      <th>slice_file_name</th>\n",
       "      <th>fsID</th>\n",
       "      <th>start</th>\n",
       "      <th>end</th>\n",
       "      <th>salience</th>\n",
       "      <th>fold</th>\n",
       "      <th>classID</th>\n",
       "      <th>class</th>\n",
       "    </tr>\n",
       "  </thead>\n",
       "  <tbody>\n",
       "    <tr>\n",
       "      <th>0</th>\n",
       "      <td>100032-3-0-0.wav</td>\n",
       "      <td>100032</td>\n",
       "      <td>0.000000</td>\n",
       "      <td>0.317551</td>\n",
       "      <td>1</td>\n",
       "      <td>5</td>\n",
       "      <td>3</td>\n",
       "      <td>dog_bark</td>\n",
       "    </tr>\n",
       "    <tr>\n",
       "      <th>1</th>\n",
       "      <td>100263-2-0-117.wav</td>\n",
       "      <td>100263</td>\n",
       "      <td>58.500000</td>\n",
       "      <td>62.500000</td>\n",
       "      <td>1</td>\n",
       "      <td>5</td>\n",
       "      <td>2</td>\n",
       "      <td>children_playing</td>\n",
       "    </tr>\n",
       "    <tr>\n",
       "      <th>2</th>\n",
       "      <td>100263-2-0-121.wav</td>\n",
       "      <td>100263</td>\n",
       "      <td>60.500000</td>\n",
       "      <td>64.500000</td>\n",
       "      <td>1</td>\n",
       "      <td>5</td>\n",
       "      <td>2</td>\n",
       "      <td>children_playing</td>\n",
       "    </tr>\n",
       "    <tr>\n",
       "      <th>3</th>\n",
       "      <td>100263-2-0-126.wav</td>\n",
       "      <td>100263</td>\n",
       "      <td>63.000000</td>\n",
       "      <td>67.000000</td>\n",
       "      <td>1</td>\n",
       "      <td>5</td>\n",
       "      <td>2</td>\n",
       "      <td>children_playing</td>\n",
       "    </tr>\n",
       "    <tr>\n",
       "      <th>4</th>\n",
       "      <td>100263-2-0-137.wav</td>\n",
       "      <td>100263</td>\n",
       "      <td>68.500000</td>\n",
       "      <td>72.500000</td>\n",
       "      <td>1</td>\n",
       "      <td>5</td>\n",
       "      <td>2</td>\n",
       "      <td>children_playing</td>\n",
       "    </tr>\n",
       "    <tr>\n",
       "      <th>5</th>\n",
       "      <td>100263-2-0-143.wav</td>\n",
       "      <td>100263</td>\n",
       "      <td>71.500000</td>\n",
       "      <td>75.500000</td>\n",
       "      <td>1</td>\n",
       "      <td>5</td>\n",
       "      <td>2</td>\n",
       "      <td>children_playing</td>\n",
       "    </tr>\n",
       "    <tr>\n",
       "      <th>6</th>\n",
       "      <td>100263-2-0-161.wav</td>\n",
       "      <td>100263</td>\n",
       "      <td>80.500000</td>\n",
       "      <td>84.500000</td>\n",
       "      <td>1</td>\n",
       "      <td>5</td>\n",
       "      <td>2</td>\n",
       "      <td>children_playing</td>\n",
       "    </tr>\n",
       "    <tr>\n",
       "      <th>7</th>\n",
       "      <td>100263-2-0-3.wav</td>\n",
       "      <td>100263</td>\n",
       "      <td>1.500000</td>\n",
       "      <td>5.500000</td>\n",
       "      <td>1</td>\n",
       "      <td>5</td>\n",
       "      <td>2</td>\n",
       "      <td>children_playing</td>\n",
       "    </tr>\n",
       "    <tr>\n",
       "      <th>8</th>\n",
       "      <td>100263-2-0-36.wav</td>\n",
       "      <td>100263</td>\n",
       "      <td>18.000000</td>\n",
       "      <td>22.000000</td>\n",
       "      <td>1</td>\n",
       "      <td>5</td>\n",
       "      <td>2</td>\n",
       "      <td>children_playing</td>\n",
       "    </tr>\n",
       "    <tr>\n",
       "      <th>9</th>\n",
       "      <td>100648-1-0-0.wav</td>\n",
       "      <td>100648</td>\n",
       "      <td>4.823402</td>\n",
       "      <td>5.471927</td>\n",
       "      <td>2</td>\n",
       "      <td>10</td>\n",
       "      <td>1</td>\n",
       "      <td>car_horn</td>\n",
       "    </tr>\n",
       "  </tbody>\n",
       "</table>\n",
       "</div>"
      ],
      "text/plain": [
       "      slice_file_name    fsID      start        end  salience  fold  classID  \\\n",
       "0    100032-3-0-0.wav  100032   0.000000   0.317551         1     5        3   \n",
       "1  100263-2-0-117.wav  100263  58.500000  62.500000         1     5        2   \n",
       "2  100263-2-0-121.wav  100263  60.500000  64.500000         1     5        2   \n",
       "3  100263-2-0-126.wav  100263  63.000000  67.000000         1     5        2   \n",
       "4  100263-2-0-137.wav  100263  68.500000  72.500000         1     5        2   \n",
       "5  100263-2-0-143.wav  100263  71.500000  75.500000         1     5        2   \n",
       "6  100263-2-0-161.wav  100263  80.500000  84.500000         1     5        2   \n",
       "7    100263-2-0-3.wav  100263   1.500000   5.500000         1     5        2   \n",
       "8   100263-2-0-36.wav  100263  18.000000  22.000000         1     5        2   \n",
       "9    100648-1-0-0.wav  100648   4.823402   5.471927         2    10        1   \n",
       "\n",
       "              class  \n",
       "0          dog_bark  \n",
       "1  children_playing  \n",
       "2  children_playing  \n",
       "3  children_playing  \n",
       "4  children_playing  \n",
       "5  children_playing  \n",
       "6  children_playing  \n",
       "7  children_playing  \n",
       "8  children_playing  \n",
       "9          car_horn  "
      ]
     },
     "execution_count": 10,
     "metadata": {},
     "output_type": "execute_result"
    }
   ],
   "source": [
    "import pandas as pd\n",
    "dataset = pd.read_csv('C:/Users/ishaa/OneDrive/Desktop/dataset/UrbanSound8K.csv')\n",
    "audio_dataset_path=('C:/Users/ishaa/OneDrive/Desktop/dataset/audio/')\n",
    "print(dataset.shape)\n",
    "dataset.head(10) "
   ]
  },
  {
   "cell_type": "markdown",
   "id": "0c3c8085",
   "metadata": {},
   "source": [
    "# Method of MFCC coefficients extraction"
   ]
  },
  {
   "cell_type": "code",
   "execution_count": 15,
   "id": "b2d0072b",
   "metadata": {},
   "outputs": [
    {
     "name": "stdout",
     "output_type": "stream",
     "text": [
      "Status: 501/8732\n",
      "Status: 1001/8732\n",
      "Status: 1501/8732\n",
      "Status: 2001/8732\n",
      "Status: 2501/8732\n",
      "Status: 3001/8732\n",
      "Status: 3501/8732\n",
      "Status: 4001/8732\n",
      "Status: 4501/8732\n",
      "Status: 5001/8732\n",
      "Status: 5501/8732\n",
      "Status: 6001/8732\n",
      "Status: 6501/8732\n",
      "Status: 7001/8732\n",
      "Status: 7501/8732\n",
      "Status: 8001/8732\n",
      "Status: 8501/8732\n",
      "Finished: 8731/8732\n"
     ]
    }
   ],
   "source": [
    "# Iterate through all audio files and extract MFCC\n",
    "features = []\n",
    "labels = []\n",
    "frames_max = 0\n",
    "counter = 0\n",
    "total_samples = len(dataset)\n",
    "n_mfcc = 40\n",
    "\n",
    "for index, row in dataset.iterrows():\n",
    "    file_path = os.path.join(os.path.abspath(audio_dataset_path), 'fold' + str(row[\"fold\"]), str(row[\"slice_file_name\"]))\n",
    "    class_label = row[\"class\"]\n",
    "\n",
    "    # Extract MFCCs (do not add padding)\n",
    "    mfccs = helpers.get_mfcc(file_path, 0, n_mfcc)\n",
    "    \n",
    "    # Save current frame count\n",
    "    num_frames = mfccs.shape[1]\n",
    "    \n",
    "    # Add row (feature / label)\n",
    "    features.append(mfccs)\n",
    "    labels.append(class_label)\n",
    "\n",
    "    # Update frames maximum\n",
    "    if (num_frames > frames_max):\n",
    "        frames_max = num_frames\n",
    "\n",
    "    # Notify update every N files\n",
    "    if (counter == 500):\n",
    "        print(\"Status: {}/{}\".format(index+1, total_samples))\n",
    "        counter = 0\n",
    "\n",
    "    counter += 1\n",
    "    \n",
    "print(\"Finished: {}/{}\".format(index, total_samples))\n"
   ]
  },
  {
   "cell_type": "code",
   "execution_count": 16,
   "id": "1cdf641b",
   "metadata": {},
   "outputs": [],
   "source": [
    "padded = []\n",
    "\n",
    "# Add padding\n",
    "mels_max_padding = frames_max\n",
    "for i in range(len(features)):\n",
    "    size = len(features[i][0])\n",
    "    if (size < mels_max_padding):\n",
    "        pad_width = mels_max_padding - size\n",
    "        px = np.pad(features[i], \n",
    "                    pad_width=((0, 0), (0, pad_width)), \n",
    "                    mode='constant', \n",
    "                    constant_values=(0,))\n",
    "    \n",
    "    padded.append(px)\n",
    "    \n",
    "# Add padding to features with less than frames than frames_max\n",
    "padded_features = helpers.add_padding(features, frames_max)"
   ]
  },
  {
   "cell_type": "markdown",
   "id": "41f76a53",
   "metadata": {},
   "source": [
    "# Save MFCC features"
   ]
  },
  {
   "cell_type": "code",
   "execution_count": 17,
   "id": "79100dc8",
   "metadata": {},
   "outputs": [],
   "source": [
    "# Convert features (X) and labels (y) to Numpy arrays\n",
    "X = np.array(padded)\n",
    "y = np.array(labels)\n",
    "\n",
    "# Optionally save the features to disk\n",
    "np.save(\"C:/Users/ishaa/OneDrive/Desktop/Urban Sound_Final/Features/x-mfcc\", X)\n",
    "np.save(\"C:/Users/ishaa/OneDrive/Desktop/Urban Sound_Final/Features/y-mfcc\", y)\n"
   ]
  },
  {
   "cell_type": "markdown",
   "id": "d05d18a5",
   "metadata": {},
   "source": [
    "# Feature Extraction : Mel Spectogram"
   ]
  },
  {
   "cell_type": "code",
   "execution_count": 59,
   "id": "0200dadf",
   "metadata": {},
   "outputs": [],
   "source": [
    "import helpers"
   ]
  },
  {
   "cell_type": "code",
   "execution_count": 75,
   "id": "3c2acd79",
   "metadata": {},
   "outputs": [
    {
     "name": "stdout",
     "output_type": "stream",
     "text": [
      "Status: 501/8732\n",
      "Status: 1001/8732\n",
      "Status: 1501/8732\n",
      "Status: 2001/8732\n",
      "Status: 2501/8732\n",
      "Status: 3001/8732\n",
      "Status: 3501/8732\n",
      "Status: 4001/8732\n",
      "Status: 4501/8732\n",
      "Status: 5001/8732\n",
      "Status: 5501/8732\n",
      "Status: 6001/8732\n",
      "Status: 6501/8732\n",
      "Status: 7001/8732\n",
      "Status: 7501/8732\n",
      "Status: 8001/8732\n",
      "Status: 8501/8732\n",
      "Finished: 8731/8732\n"
     ]
    }
   ],
   "source": [
    "def get_mel_spectrogram(file_path, padding_frames, n_mels=40):\n",
    "    # Load audio file\n",
    "    y, sr = librosa.load(file_path)\n",
    "    \n",
    "    # Compute the Mel spectrogram\n",
    "    mel_spectrogram = librosa.feature.melspectrogram(y=y, sr=sr, n_mels=n_mels)\n",
    "    \n",
    "    # If padding_frames is greater than 0, pad the spectrogram\n",
    "    if padding_frames > 0:\n",
    "        mel_spectrogram = librosa.util.pad_center(mel_spectrogram, pad_width=(0, padding_frames))\n",
    "    \n",
    "    # Convert to log scale\n",
    "    log_mel_spectrogram = librosa.power_to_db(mel_spectrogram, ref=np.max)\n",
    "    \n",
    "    return log_mel_spectrogram\n",
    "\n",
    "# Iterate through all audio files and extract mel spectogram\n",
    "features = []\n",
    "labels = []\n",
    "frames_max = 0\n",
    "counter = 0\n",
    "total_samples = len(dataset)\n",
    "n_mels=40\n",
    "\n",
    "for index, row in dataset.iterrows():\n",
    "    file_path = os.path.join(os.path.abspath(audio_dataset_path), 'fold' + str(row[\"fold\"]), str(row[\"slice_file_name\"]))\n",
    "    class_label = row[\"class\"]\n",
    "\n",
    "    # Extract Log-Mel Spectrograms (do not add padding)\n",
    "    mels = get_mel_spectrogram(file_path, 0, n_mels=n_mels)\n",
    "    \n",
    "    # Save current frame count\n",
    "    num_frames = mels.shape[1]\n",
    "    \n",
    "    # Add row (feature / label)\n",
    "    features.append(mels)\n",
    "    labels.append(class_label)\n",
    "\n",
    "    # Update frames maximum\n",
    "    if (num_frames > frames_max):\n",
    "        frames_max = num_frames\n",
    "\n",
    "    # Notify update every N files\n",
    "    if (counter == 500):\n",
    "        print(\"Status: {}/{}\".format(index+1, total_samples))\n",
    "        counter = 0\n",
    "\n",
    "    counter += 1\n",
    "    \n",
    "print(\"Finished: {}/{}\".format(index, total_samples))"
   ]
  },
  {
   "cell_type": "code",
   "execution_count": 76,
   "id": "e6f83523",
   "metadata": {},
   "outputs": [],
   "source": [
    "padded = []\n",
    "\n",
    "# Add padding\n",
    "mels_max_padding = frames_max\n",
    "for i in range(len(features)):\n",
    "    size = len(features[i][0])\n",
    "    if (size < mels_max_padding):\n",
    "        pad_width = mels_max_padding - size\n",
    "        px = np.pad(features[i], \n",
    "                    pad_width=((0, 0), (0, pad_width)), \n",
    "                    mode='constant', \n",
    "                    constant_values=(0,))\n",
    "    \n",
    "    padded.append(px)\n",
    "    \n",
    "# Add padding to features with less than frames than frames_max\n",
    "padded_features = helpers.add_padding(features, frames_max)"
   ]
  },
  {
   "cell_type": "code",
   "execution_count": 77,
   "id": "1bb2936b",
   "metadata": {},
   "outputs": [],
   "source": [
    "## Convert features (X) and labels (y) to Numpy arrays\n",
    "\n",
    "X = np.array(padded)\n",
    "y = np.array(labels)\n",
    "\n",
    "# Optionally save the features to disk\n",
    "np.save(\"C:/Users/ishaa/OneDrive/Desktop/Urban Sound_Final/Features/x-melSpec\", X)\n",
    "np.save(\"C:/Users/ishaa/OneDrive/Desktop/Urban Sound_Final/Features/y-melSpec\", y)"
   ]
  },
  {
   "cell_type": "markdown",
   "id": "977f4d26",
   "metadata": {},
   "source": [
    "# Feature Extraction : Chromagram"
   ]
  },
  {
   "cell_type": "code",
   "execution_count": 79,
   "id": "ab22b7a3",
   "metadata": {},
   "outputs": [
    {
     "name": "stdout",
     "output_type": "stream",
     "text": [
      "Finished: 8731/8732\n"
     ]
    }
   ],
   "source": [
    "# Iterate through all audio files and extract chromagram\n",
    "features = []\n",
    "labels = []\n",
    "frames_max = 0\n",
    "counter = 0\n",
    "total_samples = len(dataset)\n",
    "n_chroma = 40\n",
    "\n",
    "\n",
    "#Iterating through all audio files and extracting chromagram\n",
    "for index, row in dataset.iterrows():\n",
    "    file_path = os.path.join(os.path.abspath('audio_dataset_path'), 'fold' + str(row[\"fold\"]), str(row[\"slice_file_name\"]))\n",
    "    class_label = row[\"class\"]\n",
    "    try:\n",
    "        y, sr = librosa.load(file_path)\n",
    "        normalized_y = librosa.util.normalize(y)\n",
    "        chromagram = librosa.feature.chroma_stft(y=normalized_y,\n",
    "                                        sr=sr)\n",
    "        \n",
    "        normalized_chroma = librosa.util.normalize(chromagram)\n",
    "        shape = normalized_chroma.shape[1]\n",
    "        chroma = normalized_chroma\n",
    "        num_frames = chroma.shape[1]\n",
    "        features.append(chroma)\n",
    "        labels.append(class_label)\n",
    "        if (num_frames > frames_max):\n",
    "            frames_max = num_frames\n",
    "        if (counter == 1):\n",
    "            print(\"Status: {}/{}\".format(index+1, total_samples))\n",
    "            counter = 0\n",
    "        counter += 1\n",
    "    except Exception:\n",
    "        pass\n",
    "print(\"Finished: {}/{}\".format(index, total_samples))"
   ]
  },
  {
   "cell_type": "markdown",
   "id": "315bb0bd",
   "metadata": {},
   "source": [
    "# Padding the feature variable"
   ]
  },
  {
   "cell_type": "code",
   "execution_count": 80,
   "id": "9561c45f",
   "metadata": {},
   "outputs": [],
   "source": [
    "# Given an numpy array of features, zero-pads each ocurrence to max_padding\n",
    "def add_padding(features, chroma_max_padding=174):\n",
    "    padded = []\n",
    "    for i in range(len(features)):\n",
    "        px = features[i]\n",
    "        size = len(px[0])\n",
    "        # Add padding if required\n",
    "        if (size < chroma_max_padding):\n",
    "            xDiff = chroma_max_padding - size\n",
    "            xLeft = xDiff//2\n",
    "            xRight = xDiff-xLeft\n",
    "            px = np.pad(px, pad_width=((0,0), (xLeft, xRight)), mode='constant')\n",
    "        \n",
    "        padded.append(px)\n",
    "\n",
    "    return padded\n",
    "\n",
    "# Add padding to features with less than frames than frames_max\n",
    "padded_features = add_padding(features, frames_max)\n"
   ]
  },
  {
   "cell_type": "code",
   "execution_count": 81,
   "id": "d9c2c4b6",
   "metadata": {},
   "outputs": [],
   "source": [
    "# Convert features (X) and labels (y) to Numpy arrays\n",
    "\n",
    "X = np.array(padded) #Padded Feature are converted to numpy array & stored in X\n",
    "y = np.array(labels) #Labels are coverted to numpy array & stored in y\n",
    "\n",
    "# Optionally save the features to disk\n",
    "np.save(\"C:/Users/ishaa/OneDrive/Desktop/Urban Sound_Final/Features/x-chroma\", X)\n",
    "np.save(\"C:/Users/ishaa/OneDrive/Desktop/Urban Sound_Final/Features/y-chroma\", y)"
   ]
  },
  {
   "cell_type": "markdown",
   "id": "521bb8d0",
   "metadata": {},
   "source": [
    "# Other feature extraction"
   ]
  },
  {
   "cell_type": "code",
   "execution_count": 93,
   "id": "d3ca29bf",
   "metadata": {},
   "outputs": [
    {
     "data": {
      "text/plain": [
       "'C:\\\\Users\\\\ishaa\\\\OneDrive\\\\Desktop\\\\dataset\\\\audio'"
      ]
     },
     "execution_count": 93,
     "metadata": {},
     "output_type": "execute_result"
    }
   ],
   "source": [
    "os.path.abspath(audio_dataset_path)"
   ]
  },
  {
   "cell_type": "code",
   "execution_count": 94,
   "id": "42c9b131",
   "metadata": {},
   "outputs": [
    {
     "name": "stdout",
     "output_type": "stream",
     "text": [
      "C:\\Users\\ishaa\\OneDrive\\Desktop\\dataset\\audio\\fold7\\99812-1-6-0.wav\n"
     ]
    }
   ],
   "source": [
    "for index, row in dataset.iterrows():\n",
    "    file_path = os.path.join(os.path.abspath(audio_dataset_path), 'fold' + str(row[\"fold\"]), str(row[\"slice_file_name\"]))\n",
    "    class_label = row[\"class\"]\n",
    "    \n",
    "print(file_path)"
   ]
  },
  {
   "cell_type": "code",
   "execution_count": 92,
   "id": "6e8fcf9e",
   "metadata": {},
   "outputs": [
    {
     "data": {
      "text/plain": [
       "((40,),\n",
       " (40,),\n",
       " (40,),\n",
       " (40,),\n",
       " (40,),\n",
       " (40,),\n",
       " (40,),\n",
       " (40,),\n",
       " (40,),\n",
       " (40,),\n",
       " (40,),\n",
       " (40,),\n",
       " (40,),\n",
       " (40,),\n",
       " (40,),\n",
       " (40,),\n",
       " (40,),\n",
       " (40,),\n",
       " (40,),\n",
       " (40,),\n",
       " (40,),\n",
       " (40,),\n",
       " (40,),\n",
       " (40,),\n",
       " (40,),\n",
       " (40,),\n",
       " (40,),\n",
       " (40,))"
      ]
     },
     "execution_count": 92,
     "metadata": {},
     "output_type": "execute_result"
    }
   ],
   "source": [
    "y,sr=librosa.load(file_path)\n",
    "melspectrogram = np.mean(librosa.feature.melspectrogram(y=y, sr=sr, n_mels=40,fmax=8000).T,axis=0)\n",
    "mel1 = np.max(librosa.feature.melspectrogram(y=y, sr=sr, n_mels=40,fmax=8000).T,axis=0)\n",
    "mel2 = np.min(librosa.feature.melspectrogram(y=y, sr=sr, n_mels=40,fmax=8000).T,axis=0)\n",
    "mel3 = np.var(librosa.feature.melspectrogram(y=y, sr=sr, n_mels=40,fmax=8000).T,axis=0)\n",
    "mel4 = np.median(librosa.feature.melspectrogram(y=y, sr=sr, n_mels=40,fmax=8000).T,axis=0)\n",
    "mfccs_min = np.min(librosa.feature.mfcc(y=y, sr=sr, n_mfcc = 20).T,axis=0)  \n",
    "mfccs_min.resize((40,),refcheck=False)\n",
    "mfccs_max = np.max(librosa.feature.mfcc(y=y, sr=sr, n_mfcc = 20).T,axis=0)  \n",
    "mfccs_max.resize((40,),refcheck=False)\n",
    "mfccs_median = np.median(librosa.feature.mfcc(y=y, sr=sr, n_mfcc = 20).T,axis=0) \n",
    "mfccs_median.resize((40,),refcheck=False)\n",
    "mfccs_mean = np.mean(librosa.feature.mfcc(y=y, sr=sr, n_mfcc = 20).T,axis=0)  \n",
    "mfccs_mean.resize((40,),refcheck=False)\n",
    "mfccs_variance = np.var(librosa.feature.mfcc(y=y, sr=sr, n_mfcc = 20).T,axis=0) \n",
    "mfccs_variance.resize((40,),refcheck=False)\n",
    "mfccs_skewness = skew(librosa.feature.mfcc(y=y, sr=sr, n_mfcc = 20).T,axis=0)  \n",
    "mfccs_skewness.resize((40,),refcheck=False)\n",
    "mfccs_kurtosis = kurtosis(librosa.feature.mfcc(y=y, sr=sr, n_mfcc = 20).T,axis=0) \n",
    "mfccs_kurtosis.resize((40,),refcheck=False)\n",
    "chroma_stft=np.mean(librosa.feature.chroma_stft(y=y, sr=sr,n_chroma=40).T,axis=0)\n",
    "chrom2=np.std(librosa.feature.chroma_stft(y=y, sr=sr,n_chroma=40).T,axis=0)\n",
    "rmse1 = np.mean(librosa.feature.rms(y=y).T,axis=0)\n",
    "rmse1.resize((40,),refcheck=False)\n",
    "rmse2 = np.std(librosa.feature.rms(y=y).T,axis=0)\n",
    "rmse2.resize((40,),refcheck=False)\n",
    "spec_bw1 = np.mean(librosa.feature.spectral_bandwidth(y=y, sr=sr,n_fft=2048,hop_length=512).T,axis=0)\n",
    "spec_bw1.resize((40,),refcheck=False)\n",
    "spec_bw2 = np.std(librosa.feature.spectral_bandwidth(y=y, sr=sr,n_fft=2048,hop_length=512).T,axis=0)\n",
    "spec_bw2.resize((40,),refcheck=False)\n",
    "rolloff1 = np.mean(librosa.feature.spectral_rolloff(y=y, sr=sr,n_fft=2048,hop_length=512).T,axis=0)\n",
    "rolloff1.resize((40,),refcheck=False)\n",
    "rolloff2 = np.std(librosa.feature.spectral_rolloff(y=y, sr=sr,n_fft=2048,hop_length=512).T,axis=0)\n",
    "rolloff2.resize((40,),refcheck=False)\n",
    "centroid1 = np.mean(librosa.feature.spectral_centroid(y=y, sr=sr,n_fft=2048,hop_length=512).T,axis=0)\n",
    "centroid1.resize((40,),refcheck=False)\n",
    "centroid2 = np.std(librosa.feature.spectral_centroid(y=y, sr=sr,n_fft=2048,hop_length=512).T,axis=0)\n",
    "centroid2.resize((40,),refcheck=False)\n",
    "zcr1 = np.mean(librosa.feature.zero_crossing_rate(y).T,axis=0)\n",
    "zcr1.resize((40,),refcheck=False)\n",
    "zcr2 = np.std(librosa.feature.zero_crossing_rate(y).T,axis=0)\n",
    "zcr2.resize((40,),refcheck=False)\n",
    "chrcn1=np.mean(librosa.feature.chroma_cens(y=y, sr=sr,C=None,n_chroma=12,bins_per_octave=36).T,axis=0)\n",
    "chrcn1.resize((40,),refcheck=False)\n",
    "chrcn2=np.std(librosa.feature.chroma_cens(y=y, sr=sr,C=None,n_chroma=12,bins_per_octave=36).T,axis=0)\n",
    "chrcn2.resize((40,),refcheck=False)\n",
    "chrcqt1=np.mean(librosa.feature.chroma_cqt(y=y, sr=sr,C=None,n_chroma=12,bins_per_octave=36).T,axis=0)\n",
    "chrcqt1.resize((40,),refcheck=False)\n",
    "chrcqt2=np.std(librosa.feature.chroma_cens(y=y, sr=sr,C=None,n_chroma=12,bins_per_octave=36).T,axis=0)\n",
    "chrcqt2.resize((40,),refcheck=False)\n",
    "melspectrogram.shape,mel1.shape,mel2.shape,mel3.shape,mel4.shape,mfccs_min.shape,mfccs_max.shape,mfccs_median.shape,mfccs_mean.shape,mfccs_variance.shape,mfccs_skewness.shape,mfccs_kurtosis.shape,chroma_stft.shape,chrom2.shape,rmse1.shape,rmse2.shape,spec_bw1.shape,spec_bw2.shape,rolloff1.shape,rolloff2.shape,centroid1.shape,centroid2.shape,zcr1.shape,zcr2.shape,chrcn1.shape,chrcn2.shape,chrcqt1.shape,chrcqt2.shape"
   ]
  },
  {
   "cell_type": "code",
   "execution_count": 95,
   "id": "f1379a40",
   "metadata": {},
   "outputs": [
    {
     "data": {
      "text/plain": [
       "<function ndarray.reshape>"
      ]
     },
     "execution_count": 95,
     "metadata": {},
     "output_type": "execute_result"
    }
   ],
   "source": [
    "features=np.vstack((melspectrogram,mel1,mel2,mel3,mel4,mfccs_min,mfccs_max,mfccs_median,mfccs_mean,mfccs_variance,mfccs_skewness,mfccs_kurtosis,chroma_stft,chrom2,rmse1,rmse2,spec_bw1,spec_bw2,rolloff1,rolloff2,centroid1,centroid2,zcr1,zcr2,chrcn1,chrcn2,chrcqt1,chrcqt2))\n",
    "features.reshape"
   ]
  },
  {
   "cell_type": "code",
   "execution_count": 96,
   "id": "c2fa970d",
   "metadata": {},
   "outputs": [
    {
     "data": {
      "text/plain": [
       "array([[7.91354328e-02, 6.10220879e-02, 6.43379465e-02, ...,\n",
       "        2.78551015e-04, 1.75420006e-04, 9.97673269e-05],\n",
       "       [3.01072776e-01, 3.24417651e-01, 2.38359332e-01, ...,\n",
       "        2.71630543e-03, 1.31788035e-03, 8.62481364e-04],\n",
       "       [9.81561653e-03, 6.90746401e-03, 5.78295300e-03, ...,\n",
       "        1.12634343e-05, 1.77016409e-05, 8.39356289e-06],\n",
       "       ...,\n",
       "       [4.56163362e-02, 1.60106719e-02, 4.67957743e-02, ...,\n",
       "        0.00000000e+00, 0.00000000e+00, 0.00000000e+00],\n",
       "       [4.65843469e-01, 4.72705901e-01, 6.16207242e-01, ...,\n",
       "        0.00000000e+00, 0.00000000e+00, 0.00000000e+00],\n",
       "       [4.56163362e-02, 1.60106719e-02, 4.67957743e-02, ...,\n",
       "        0.00000000e+00, 0.00000000e+00, 0.00000000e+00]])"
      ]
     },
     "execution_count": 96,
     "metadata": {},
     "output_type": "execute_result"
    }
   ],
   "source": [
    "features"
   ]
  },
  {
   "cell_type": "code",
   "execution_count": 100,
   "id": "3ea63994",
   "metadata": {},
   "outputs": [
    {
     "name": "stderr",
     "output_type": "stream",
     "text": [
      "100%|████████████████████████████████████████████████████████████████████████████| 8732/8732 [7:03:27<00:00,  2.91s/it]\n"
     ]
    }
   ],
   "source": [
    "#preprocessing using entire feature set\n",
    "from tqdm import tqdm\n",
    "x_train=[]\n",
    "x_test=[]\n",
    "y_train=[]\n",
    "y_test=[]\n",
    "path=\"C:/Users/ishaa/OneDrive/Desktop/dataset/audio/fold\"\n",
    "for i in tqdm(range(len(dataset))):\n",
    "    fold_no=str(dataset.iloc[i][\"fold\"])\n",
    "    file=dataset.iloc[i][\"slice_file_name\"]\n",
    "    label=dataset.iloc[i][\"classID\"]\n",
    "    filename=path+fold_no+\"/\"+file\n",
    "    y,sr=librosa.load(filename)\n",
    "    mfccs_min = np.min(librosa.feature.mfcc(y=y, sr=sr, n_mfcc = 20).T,axis=0)  \n",
    "    mfccs_max = np.max(librosa.feature.mfcc(y=y, sr=sr, n_mfcc = 20).T,axis=0)  \n",
    "    mfccs_median = np.median(librosa.feature.mfcc(y=y, sr=sr, n_mfcc = 20).T,axis=0) \n",
    "\n",
    "    mfccs_mean = np.mean(librosa.feature.mfcc(y=y, sr=sr, n_mfcc = 20).T,axis=0)  \n",
    "\n",
    "    mfccs_variance = np.var(librosa.feature.mfcc(y=y, sr=sr, n_mfcc = 20).T,axis=0) \n",
    "\n",
    "    mfccs_skewness = skew(librosa.feature.mfcc(y=y, sr=sr, n_mfcc = 20).T,axis=0)  \n",
    "\n",
    "    mfccs_kurtosis = kurtosis(librosa.feature.mfcc(y=y, sr=sr, n_mfcc = 20).T,axis=0) \n",
    "    melspectrogram = np.mean(librosa.feature.melspectrogram(y=y, sr=sr, n_mels=40,fmax=8000).T,axis=0)\n",
    "    mel1 = np.max(librosa.feature.melspectrogram(y=y, sr=sr, n_mels=40,fmax=8000).T,axis=0)\n",
    "    mel2 = np.min(librosa.feature.melspectrogram(y=y, sr=sr, n_mels=40,fmax=8000).T,axis=0)\n",
    "    mel3 = np.var(librosa.feature.melspectrogram(y=y, sr=sr, n_mels=40,fmax=8000).T,axis=0)\n",
    "    mel4 = np.median(librosa.feature.melspectrogram(y=y, sr=sr, n_mels=40,fmax=8000).T,axis=0)\n",
    "    chroma_stft=np.mean(librosa.feature.chroma_stft(y=y, sr=sr,n_chroma=40).T,axis=0)\n",
    "    chrom2=np.std(librosa.feature.chroma_stft(y=y, sr=sr,n_chroma=40).T,axis=0)\n",
    "    rmse1 = np.mean(librosa.feature.rms(y=y).T,axis=0)\n",
    "    rmse2 = np.std(librosa.feature.rms(y=y).T,axis=0)\n",
    "    spec_bw1 = np.mean(librosa.feature.spectral_bandwidth(y=y, sr=sr).T,axis=0)\n",
    "    spec_bw2 = np.std(librosa.feature.spectral_bandwidth(y=y, sr=sr).T,axis=0)\n",
    "    rolloff1 = np.mean(librosa.feature.spectral_rolloff(y=y, sr=sr).T,axis=0)\n",
    "    rolloff2 = np.std(librosa.feature.spectral_rolloff(y=y, sr=sr).T,axis=0)\n",
    "    centroid1 = np.mean(librosa.feature.spectral_centroid(y=y, sr=sr).T,axis=0)\n",
    "    centroid2 = np.std(librosa.feature.spectral_centroid(y=y, sr=sr).T,axis=0)\n",
    "    zcr1 = np.mean(librosa.feature.zero_crossing_rate(y).T,axis=0)\n",
    "    zcr2 = np.std(librosa.feature.zero_crossing_rate(y).T,axis=0)\n",
    "    chrcn1=np.mean(librosa.feature.chroma_cens(y=y, sr=sr,C=None,n_chroma=12,bins_per_octave=36).T,axis=0)\n",
    "    chrcn2=np.std(librosa.feature.chroma_cens(y=y, sr=sr,C=None,n_chroma=12,bins_per_octave=36).T,axis=0)\n",
    "    chrcqt1=np.mean(librosa.feature.chroma_cqt(y=y, sr=sr,C=None,n_chroma=12,bins_per_octave=36).T,axis=0)\n",
    "    chrcqt2=np.std(librosa.feature.chroma_cens(y=y, sr=sr,C=None,n_chroma=12,bins_per_octave=36).T,axis=0)\n",
    "    features\n",
    "    if(fold_no!='10'):\n",
    "      x_train.append(features)\n",
    "      y_train.append(label)\n",
    "    else:\n",
    "      x_test.append(features)\n",
    "      y_test.append(label)"
   ]
  },
  {
   "cell_type": "code",
   "execution_count": 101,
   "id": "7f1b962b",
   "metadata": {},
   "outputs": [
    {
     "data": {
      "text/plain": [
       "8732"
      ]
     },
     "execution_count": 101,
     "metadata": {},
     "output_type": "execute_result"
    }
   ],
   "source": [
    "len(x_train)+len(x_test)"
   ]
  },
  {
   "cell_type": "code",
   "execution_count": 102,
   "id": "3b626134",
   "metadata": {},
   "outputs": [
    {
     "data": {
      "text/plain": [
       "8732"
      ]
     },
     "execution_count": 102,
     "metadata": {},
     "output_type": "execute_result"
    }
   ],
   "source": [
    "len(dataset)"
   ]
  },
  {
   "cell_type": "code",
   "execution_count": 103,
   "id": "9d4d1444",
   "metadata": {},
   "outputs": [
    {
     "data": {
      "text/plain": [
       "((7895, 28, 40), (837, 28, 40), (7895,), (837,))"
      ]
     },
     "execution_count": 103,
     "metadata": {},
     "output_type": "execute_result"
    }
   ],
   "source": [
    "#converting the lists into numpy arrays\n",
    "x_train1=np.array(x_train)\n",
    "x_test1=np.array(x_test)\n",
    "y_train1=np.array(y_train)\n",
    "y_test1=np.array(y_test)\n",
    "x_train1.shape,x_test1.shape,y_train1.shape,y_test1.shape"
   ]
  },
  {
   "cell_type": "code",
   "execution_count": 104,
   "id": "61ad189c",
   "metadata": {},
   "outputs": [
    {
     "data": {
      "text/plain": [
       "((7895, 1120), (837, 1120))"
      ]
     },
     "execution_count": 104,
     "metadata": {},
     "output_type": "execute_result"
    }
   ],
   "source": [
    "#reshaping into 2d to save in csv format\n",
    "x_train_2d=np.reshape(x_train1,(x_train1.shape[0],x_train1.shape[1]*x_train1.shape[2]))\n",
    "x_test_2d=np.reshape(x_test1,(x_test1.shape[0],x_test1.shape[1]*x_test1.shape[2]))\n",
    "x_train_2d.shape,x_test_2d.shape"
   ]
  },
  {
   "cell_type": "code",
   "execution_count": 105,
   "id": "b1463d00",
   "metadata": {},
   "outputs": [],
   "source": [
    "#saving the data numpy arrays\n",
    "np.savetxt(\"train_data1.csv\", x_train_2d, delimiter=\",\")\n",
    "np.savetxt(\"test_data1.csv\",x_test_2d,delimiter=\",\")\n",
    "np.savetxt(\"train_labels1.csv\",y_train,delimiter=\",\")\n",
    "np.savetxt(\"test_labels1.csv\",y_test,delimiter=\",\")"
   ]
  },
  {
   "cell_type": "code",
   "execution_count": null,
   "id": "16d88eba",
   "metadata": {},
   "outputs": [],
   "source": []
  }
 ],
 "metadata": {
  "kernelspec": {
   "display_name": "Python 3 (ipykernel)",
   "language": "python",
   "name": "python3"
  },
  "language_info": {
   "codemirror_mode": {
    "name": "ipython",
    "version": 3
   },
   "file_extension": ".py",
   "mimetype": "text/x-python",
   "name": "python",
   "nbconvert_exporter": "python",
   "pygments_lexer": "ipython3",
   "version": "3.11.4"
  }
 },
 "nbformat": 4,
 "nbformat_minor": 5
}
